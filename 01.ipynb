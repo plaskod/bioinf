{
 "cells": [
  {
   "cell_type": "code",
   "execution_count": 2,
   "metadata": {},
   "outputs": [
    {
     "name": "stdout",
     "output_type": "stream",
     "text": [
      "Neuclotides counts: \n",
      "A : 14726\n",
      "C : 13988\n",
      "G : 14363\n",
      "T : 16291\n",
      "W : 1\n",
      "N : 5592\n",
      "Neuclotides counts: \n",
      "A : 133222\n",
      "T : 144731\n",
      "G : 111098\n",
      "C : 106296\n",
      "N : 128\n",
      "Failed to open: 404\n",
      "Failed to open: 404\n"
     ]
    }
   ],
   "source": [
    "import collections\n",
    "import requests\n",
    "\n",
    "webpage = 'http://www.ebi.ac.uk/ena/data/view/'\n",
    "api='&display=fasta'\n",
    "links=[f\"{webpage}BN{i:0>6}{api}\" for i in range(1,5)]\n",
    "\n",
    "for link in map(requests.get,links):\n",
    "    if link.status_code >= 300:\n",
    "        print(f\"Failed to open: {link.status_code}\")\n",
    "        continue\n",
    "        \n",
    "    lines=link.iter_lines()\n",
    "    next(lines)\n",
    "    neucl_count=collections.defaultdict(int)\n",
    "    for line in lines:\n",
    "        for c in line:\n",
    "            neucl_count[c]+=1\n",
    "            \n",
    "    print(\"Neuclotides counts: \")\n",
    "    print(*(f\"{chr(neuclotide)} : {count}\" for (neuclotide, count) in neucl_count.items()),sep='\\n')"
   ]
  },
  {
   "cell_type": "code",
   "execution_count": null,
   "metadata": {},
   "outputs": [],
   "source": []
  }
 ],
 "metadata": {
  "kernelspec": {
   "display_name": "Python 3",
   "language": "python",
   "name": "python3"
  },
  "language_info": {
   "codemirror_mode": {
    "name": "ipython",
    "version": 3
   },
   "file_extension": ".py",
   "mimetype": "text/x-python",
   "name": "python",
   "nbconvert_exporter": "python",
   "pygments_lexer": "ipython3",
   "version": "3.8.5"
  }
 },
 "nbformat": 4,
 "nbformat_minor": 4
}
